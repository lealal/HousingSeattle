{
 "cells": [
  {
   "cell_type": "markdown",
   "id": "a957b198-1d20-4a57-88c3-8fb7b9bbbe25",
   "metadata": {},
   "source": [
    "# Notes and disclaimer\n",
    "\n",
    "This notebook has been used as a personal learning exercise to practice and play around with the Scikit-Learn library. The dataset used was the *House Price Prediction Seattle* from kaggle: https://www.kaggle.com/datasets/samuelcortinhas/house-price-prediction-seattle\n",
    "\n",
    "As someone living in the Seattle area who is working towards homeownership and expanding my software engineering skills, I thought it would be interesting to find a dataset about prices in the area, analyze the data, and create a model to see how the model predictions compare to some of the prices from listings in Redfin\n",
    "\n",
    "The contents, results, and predictions are purely academic"
   ]
  },
  {
   "cell_type": "markdown",
   "id": "5727426f-2173-479d-815d-0fffbe5821fc",
   "metadata": {},
   "source": [
    "### Imports"
   ]
  },
  {
   "cell_type": "code",
   "execution_count": 1,
   "id": "800a7f2d-d3ae-4681-b078-0b3c22e3ba41",
   "metadata": {},
   "outputs": [],
   "source": [
    "import os\n",
    "import pandas as pd\n",
    "import matplotlib.pyplot as plt\n",
    "from sklearn.linear_model import LinearRegression\n",
    "from sklearn.metrics import mean_squared_error\n",
    "from sklearn.impute import SimpleImputer\n",
    "import numpy as np\n",
    "from sklearn.ensemble import RandomForestRegressor"
   ]
  },
  {
   "cell_type": "markdown",
   "id": "08606075-b6c7-4d21-b797-5fe069f2b8a5",
   "metadata": {},
   "source": [
    "### Load, analyze, and preparade data\n",
    "\n",
    "The files have been downloaded from kaggle and added to the directory"
   ]
  },
  {
   "cell_type": "code",
   "execution_count": 2,
   "id": "0ebe803f-9e03-4521-9ab0-41baf7ebf726",
   "metadata": {},
   "outputs": [],
   "source": [
    "TEST_PATH = 'test.csv'\n",
    "TRAIN_PATH = 'train.csv'\n",
    "current_directory = os.getcwd()\n",
    "\n",
    "def load_housing_data():\n",
    "    train_path = os.path.join(current_directory, TRAIN_PATH)\n",
    "    test_path = os.path.join(current_directory, TEST_PATH)\n",
    "    train = pd.read_csv(train_path)\n",
    "    test = pd.read_csv(test_path)\n",
    "    return train, test"
   ]
  },
  {
   "cell_type": "code",
   "execution_count": 3,
   "id": "376b6017-8f82-417b-bc4d-461d9055ee39",
   "metadata": {},
   "outputs": [],
   "source": [
    "housing_train, housing_test = load_housing_data()"
   ]
  },
  {
   "cell_type": "code",
   "execution_count": 4,
   "id": "bd0d1011-9075-4d07-a044-b62dbea53fd3",
   "metadata": {},
   "outputs": [
    {
     "data": {
      "text/plain": [
       "(2016, 8)"
      ]
     },
     "execution_count": 4,
     "metadata": {},
     "output_type": "execute_result"
    }
   ],
   "source": [
    "housing_train.shape"
   ]
  },
  {
   "cell_type": "code",
   "execution_count": 5,
   "id": "9038d4f1-9256-47c3-a563-afd6a1e70d2e",
   "metadata": {},
   "outputs": [
    {
     "data": {
      "text/plain": [
       "(505, 8)"
      ]
     },
     "execution_count": 5,
     "metadata": {},
     "output_type": "execute_result"
    }
   ],
   "source": [
    "housing_test.shape"
   ]
  },
  {
   "cell_type": "code",
   "execution_count": 6,
   "id": "d1f68c96-e88a-4423-8ee1-d495de74b3d9",
   "metadata": {},
   "outputs": [
    {
     "data": {
      "text/html": [
       "<div>\n",
       "<style scoped>\n",
       "    .dataframe tbody tr th:only-of-type {\n",
       "        vertical-align: middle;\n",
       "    }\n",
       "\n",
       "    .dataframe tbody tr th {\n",
       "        vertical-align: top;\n",
       "    }\n",
       "\n",
       "    .dataframe thead th {\n",
       "        text-align: right;\n",
       "    }\n",
       "</style>\n",
       "<table border=\"1\" class=\"dataframe\">\n",
       "  <thead>\n",
       "    <tr style=\"text-align: right;\">\n",
       "      <th></th>\n",
       "      <th>beds</th>\n",
       "      <th>baths</th>\n",
       "      <th>size</th>\n",
       "      <th>size_units</th>\n",
       "      <th>lot_size</th>\n",
       "      <th>lot_size_units</th>\n",
       "      <th>zip_code</th>\n",
       "      <th>price</th>\n",
       "    </tr>\n",
       "  </thead>\n",
       "  <tbody>\n",
       "    <tr>\n",
       "      <th>0</th>\n",
       "      <td>3</td>\n",
       "      <td>2.5</td>\n",
       "      <td>2590.0</td>\n",
       "      <td>sqft</td>\n",
       "      <td>6000.00</td>\n",
       "      <td>sqft</td>\n",
       "      <td>98144</td>\n",
       "      <td>795000.0</td>\n",
       "    </tr>\n",
       "    <tr>\n",
       "      <th>1</th>\n",
       "      <td>4</td>\n",
       "      <td>2.0</td>\n",
       "      <td>2240.0</td>\n",
       "      <td>sqft</td>\n",
       "      <td>0.31</td>\n",
       "      <td>acre</td>\n",
       "      <td>98106</td>\n",
       "      <td>915000.0</td>\n",
       "    </tr>\n",
       "    <tr>\n",
       "      <th>2</th>\n",
       "      <td>4</td>\n",
       "      <td>3.0</td>\n",
       "      <td>2040.0</td>\n",
       "      <td>sqft</td>\n",
       "      <td>3783.00</td>\n",
       "      <td>sqft</td>\n",
       "      <td>98107</td>\n",
       "      <td>950000.0</td>\n",
       "    </tr>\n",
       "    <tr>\n",
       "      <th>3</th>\n",
       "      <td>4</td>\n",
       "      <td>3.0</td>\n",
       "      <td>3800.0</td>\n",
       "      <td>sqft</td>\n",
       "      <td>5175.00</td>\n",
       "      <td>sqft</td>\n",
       "      <td>98199</td>\n",
       "      <td>1950000.0</td>\n",
       "    </tr>\n",
       "    <tr>\n",
       "      <th>4</th>\n",
       "      <td>2</td>\n",
       "      <td>2.0</td>\n",
       "      <td>1042.0</td>\n",
       "      <td>sqft</td>\n",
       "      <td>NaN</td>\n",
       "      <td>NaN</td>\n",
       "      <td>98102</td>\n",
       "      <td>950000.0</td>\n",
       "    </tr>\n",
       "  </tbody>\n",
       "</table>\n",
       "</div>"
      ],
      "text/plain": [
       "   beds  baths    size size_units  lot_size lot_size_units  zip_code  \\\n",
       "0     3    2.5  2590.0       sqft   6000.00           sqft     98144   \n",
       "1     4    2.0  2240.0       sqft      0.31           acre     98106   \n",
       "2     4    3.0  2040.0       sqft   3783.00           sqft     98107   \n",
       "3     4    3.0  3800.0       sqft   5175.00           sqft     98199   \n",
       "4     2    2.0  1042.0       sqft       NaN            NaN     98102   \n",
       "\n",
       "       price  \n",
       "0   795000.0  \n",
       "1   915000.0  \n",
       "2   950000.0  \n",
       "3  1950000.0  \n",
       "4   950000.0  "
      ]
     },
     "execution_count": 6,
     "metadata": {},
     "output_type": "execute_result"
    }
   ],
   "source": [
    "housing_train.head()"
   ]
  },
  {
   "cell_type": "code",
   "execution_count": 7,
   "id": "5538ce66-3dbd-4432-bbc3-ca86885e26ec",
   "metadata": {},
   "outputs": [
    {
     "name": "stdout",
     "output_type": "stream",
     "text": [
      "<class 'pandas.core.frame.DataFrame'>\n",
      "RangeIndex: 2016 entries, 0 to 2015\n",
      "Data columns (total 8 columns):\n",
      " #   Column          Non-Null Count  Dtype  \n",
      "---  ------          --------------  -----  \n",
      " 0   beds            2016 non-null   int64  \n",
      " 1   baths           2016 non-null   float64\n",
      " 2   size            2016 non-null   float64\n",
      " 3   size_units      2016 non-null   object \n",
      " 4   lot_size        1669 non-null   float64\n",
      " 5   lot_size_units  1669 non-null   object \n",
      " 6   zip_code        2016 non-null   int64  \n",
      " 7   price           2016 non-null   float64\n",
      "dtypes: float64(4), int64(2), object(2)\n",
      "memory usage: 126.1+ KB\n"
     ]
    }
   ],
   "source": [
    "housing_train.info()"
   ]
  },
  {
   "cell_type": "code",
   "execution_count": 8,
   "id": "5c28aae5-dc4c-4f7e-a199-177718d58210",
   "metadata": {},
   "outputs": [
    {
     "name": "stdout",
     "output_type": "stream",
     "text": [
      "<class 'pandas.core.frame.DataFrame'>\n",
      "RangeIndex: 505 entries, 0 to 504\n",
      "Data columns (total 8 columns):\n",
      " #   Column          Non-Null Count  Dtype  \n",
      "---  ------          --------------  -----  \n",
      " 0   beds            505 non-null    int64  \n",
      " 1   baths           505 non-null    float64\n",
      " 2   size            505 non-null    float64\n",
      " 3   size_units      505 non-null    object \n",
      " 4   lot_size        428 non-null    float64\n",
      " 5   lot_size_units  428 non-null    object \n",
      " 6   zip_code        505 non-null    int64  \n",
      " 7   price           505 non-null    float64\n",
      "dtypes: float64(4), int64(2), object(2)\n",
      "memory usage: 31.7+ KB\n"
     ]
    }
   ],
   "source": [
    "housing_test.info()"
   ]
  },
  {
   "cell_type": "code",
   "execution_count": 9,
   "id": "c2335f1c-e20d-4a60-9e73-70095dad10de",
   "metadata": {},
   "outputs": [
    {
     "data": {
      "image/png": "[encoded data removed]",
      "text/plain": [
       "<Figure size 2000x1500 with 6 Axes>"
      ]
     },
     "metadata": {},
     "output_type": "display_data"
    }
   ],
   "source": [
    "housing_train.hist(bins=50, figsize=(20,15))\n",
    "plt.show()"
   ]
  },
  {
   "cell_type": "markdown",
   "id": "43c082c8-cb1e-4fc3-b7f8-5ca5330dfc4d",
   "metadata": {},
   "source": [
    "There are few observations to be made:\n",
    "\n",
    "1. Some lot sizes are in acres and some are in sqft\n",
    "* We need to have them use the same metric\n",
    "2. Some lot sizes have null data. We have some options:\n",
    "* Remove all the entries will null data for lot sizes\n",
    "* Fill with the average/mean/median\n",
    "* Create a model to fill these values\n",
    "3. The dataset is pretty small so the expectation of the model is to perform somewhat poorly\n",
    "\n",
    "\n",
    "For this scenario, we will be formattig all entries to use sqft for their lot size. We will also fill the null lot sizes using a __SimplerImputer__. Since there are only around 2500 entries, dropping some will create a really small dataset so it is preferable to fill them instead of removing them.\n",
    "\n",
    "Additionally, we will format the data to have a bigger training set. Currently, the test set is around 20%, we will change that to be 15% so there is more training data for our model to work with"
   ]
  },
  {
   "cell_type": "code",
   "execution_count": 10,
   "id": "90bcc6e7-01cd-465c-811b-33bc16f4c603",
   "metadata": {},
   "outputs": [
    {
     "data": {
      "text/plain": [
       "(2521, 8)"
      ]
     },
     "execution_count": 10,
     "metadata": {},
     "output_type": "execute_result"
    }
   ],
   "source": [
    "housing_data = pd.concat([housing_train, housing_test], axis=0)\n",
    "housing_data.shape"
   ]
  },
  {
   "cell_type": "code",
   "execution_count": 11,
   "id": "c51d49e8-0fdc-49d4-ae2c-546366490050",
   "metadata": {},
   "outputs": [
    {
     "data": {
      "text/html": [
       "<div>\n",
       "<style scoped>\n",
       "    .dataframe tbody tr th:only-of-type {\n",
       "        vertical-align: middle;\n",
       "    }\n",
       "\n",
       "    .dataframe tbody tr th {\n",
       "        vertical-align: top;\n",
       "    }\n",
       "\n",
       "    .dataframe thead th {\n",
       "        text-align: right;\n",
       "    }\n",
       "</style>\n",
       "<table border=\"1\" class=\"dataframe\">\n",
       "  <thead>\n",
       "    <tr style=\"text-align: right;\">\n",
       "      <th></th>\n",
       "      <th>beds</th>\n",
       "      <th>baths</th>\n",
       "      <th>size</th>\n",
       "      <th>size_units</th>\n",
       "      <th>lot_size</th>\n",
       "      <th>lot_size_units</th>\n",
       "      <th>zip_code</th>\n",
       "      <th>price</th>\n",
       "    </tr>\n",
       "  </thead>\n",
       "  <tbody>\n",
       "    <tr>\n",
       "      <th>0</th>\n",
       "      <td>3</td>\n",
       "      <td>2.5</td>\n",
       "      <td>2590.0</td>\n",
       "      <td>sqft</td>\n",
       "      <td>6000.00</td>\n",
       "      <td>sqft</td>\n",
       "      <td>98144</td>\n",
       "      <td>795000.0</td>\n",
       "    </tr>\n",
       "    <tr>\n",
       "      <th>1</th>\n",
       "      <td>4</td>\n",
       "      <td>2.0</td>\n",
       "      <td>2240.0</td>\n",
       "      <td>sqft</td>\n",
       "      <td>0.31</td>\n",
       "      <td>acre</td>\n",
       "      <td>98106</td>\n",
       "      <td>915000.0</td>\n",
       "    </tr>\n",
       "    <tr>\n",
       "      <th>2</th>\n",
       "      <td>4</td>\n",
       "      <td>3.0</td>\n",
       "      <td>2040.0</td>\n",
       "      <td>sqft</td>\n",
       "      <td>3783.00</td>\n",
       "      <td>sqft</td>\n",
       "      <td>98107</td>\n",
       "      <td>950000.0</td>\n",
       "    </tr>\n",
       "    <tr>\n",
       "      <th>3</th>\n",
       "      <td>4</td>\n",
       "      <td>3.0</td>\n",
       "      <td>3800.0</td>\n",
       "      <td>sqft</td>\n",
       "      <td>5175.00</td>\n",
       "      <td>sqft</td>\n",
       "      <td>98199</td>\n",
       "      <td>1950000.0</td>\n",
       "    </tr>\n",
       "    <tr>\n",
       "      <th>4</th>\n",
       "      <td>2</td>\n",
       "      <td>2.0</td>\n",
       "      <td>1042.0</td>\n",
       "      <td>sqft</td>\n",
       "      <td>NaN</td>\n",
       "      <td>NaN</td>\n",
       "      <td>98102</td>\n",
       "      <td>950000.0</td>\n",
       "    </tr>\n",
       "  </tbody>\n",
       "</table>\n",
       "</div>"
      ],
      "text/plain": [
       "   beds  baths    size size_units  lot_size lot_size_units  zip_code  \\\n",
       "0     3    2.5  2590.0       sqft   6000.00           sqft     98144   \n",
       "1     4    2.0  2240.0       sqft      0.31           acre     98106   \n",
       "2     4    3.0  2040.0       sqft   3783.00           sqft     98107   \n",
       "3     4    3.0  3800.0       sqft   5175.00           sqft     98199   \n",
       "4     2    2.0  1042.0       sqft       NaN            NaN     98102   \n",
       "\n",
       "       price  \n",
       "0   795000.0  \n",
       "1   915000.0  \n",
       "2   950000.0  \n",
       "3  1950000.0  \n",
       "4   950000.0  "
      ]
     },
     "execution_count": 11,
     "metadata": {},
     "output_type": "execute_result"
    }
   ],
   "source": [
    "housing_data.head()"
   ]
  },
  {
   "cell_type": "code",
   "execution_count": 12,
   "id": "107ebf55-9edd-4d67-b38d-72372cb3c321",
   "metadata": {},
   "outputs": [],
   "source": [
    "acre_to_sqft_conversion = 43560\n",
    "\n",
    "def convert_lot_size_to_sqft(data=housing_data):\n",
    "    housing_data['lot_size'] = housing_data.apply(lambda row: row['lot_size'] * acre_to_sqft_conversion if row['lot_size_units'] == 'acre' else row['lot_size'], axis=1)\n",
    "    housing_data['lot_size_units'] = housing_data['lot_size_units'].apply(lambda unit: 'sqft' if unit == 'acre' else unit)\n",
    "    return housing_data"
   ]
  },
  {
   "cell_type": "code",
   "execution_count": 13,
   "id": "32fa9312-0b96-4cd4-87b6-8d5f36f2a795",
   "metadata": {},
   "outputs": [
    {
     "data": {
      "text/html": [
       "<div>\n",
       "<style scoped>\n",
       "    .dataframe tbody tr th:only-of-type {\n",
       "        vertical-align: middle;\n",
       "    }\n",
       "\n",
       "    .dataframe tbody tr th {\n",
       "        vertical-align: top;\n",
       "    }\n",
       "\n",
       "    .dataframe thead th {\n",
       "        text-align: right;\n",
       "    }\n",
       "</style>\n",
       "<table border=\"1\" class=\"dataframe\">\n",
       "  <thead>\n",
       "    <tr style=\"text-align: right;\">\n",
       "      <th></th>\n",
       "      <th>beds</th>\n",
       "      <th>baths</th>\n",
       "      <th>size</th>\n",
       "      <th>size_units</th>\n",
       "      <th>lot_size</th>\n",
       "      <th>lot_size_units</th>\n",
       "      <th>zip_code</th>\n",
       "      <th>price</th>\n",
       "    </tr>\n",
       "  </thead>\n",
       "  <tbody>\n",
       "    <tr>\n",
       "      <th>0</th>\n",
       "      <td>3</td>\n",
       "      <td>2.5</td>\n",
       "      <td>2590.0</td>\n",
       "      <td>sqft</td>\n",
       "      <td>6000.0</td>\n",
       "      <td>sqft</td>\n",
       "      <td>98144</td>\n",
       "      <td>795000.0</td>\n",
       "    </tr>\n",
       "    <tr>\n",
       "      <th>1</th>\n",
       "      <td>4</td>\n",
       "      <td>2.0</td>\n",
       "      <td>2240.0</td>\n",
       "      <td>sqft</td>\n",
       "      <td>13503.6</td>\n",
       "      <td>sqft</td>\n",
       "      <td>98106</td>\n",
       "      <td>915000.0</td>\n",
       "    </tr>\n",
       "    <tr>\n",
       "      <th>2</th>\n",
       "      <td>4</td>\n",
       "      <td>3.0</td>\n",
       "      <td>2040.0</td>\n",
       "      <td>sqft</td>\n",
       "      <td>3783.0</td>\n",
       "      <td>sqft</td>\n",
       "      <td>98107</td>\n",
       "      <td>950000.0</td>\n",
       "    </tr>\n",
       "    <tr>\n",
       "      <th>3</th>\n",
       "      <td>4</td>\n",
       "      <td>3.0</td>\n",
       "      <td>3800.0</td>\n",
       "      <td>sqft</td>\n",
       "      <td>5175.0</td>\n",
       "      <td>sqft</td>\n",
       "      <td>98199</td>\n",
       "      <td>1950000.0</td>\n",
       "    </tr>\n",
       "    <tr>\n",
       "      <th>4</th>\n",
       "      <td>2</td>\n",
       "      <td>2.0</td>\n",
       "      <td>1042.0</td>\n",
       "      <td>sqft</td>\n",
       "      <td>NaN</td>\n",
       "      <td>NaN</td>\n",
       "      <td>98102</td>\n",
       "      <td>950000.0</td>\n",
       "    </tr>\n",
       "  </tbody>\n",
       "</table>\n",
       "</div>"
      ],
      "text/plain": [
       "   beds  baths    size size_units  lot_size lot_size_units  zip_code  \\\n",
       "0     3    2.5  2590.0       sqft    6000.0           sqft     98144   \n",
       "1     4    2.0  2240.0       sqft   13503.6           sqft     98106   \n",
       "2     4    3.0  2040.0       sqft    3783.0           sqft     98107   \n",
       "3     4    3.0  3800.0       sqft    5175.0           sqft     98199   \n",
       "4     2    2.0  1042.0       sqft       NaN            NaN     98102   \n",
       "\n",
       "       price  \n",
       "0   795000.0  \n",
       "1   915000.0  \n",
       "2   950000.0  \n",
       "3  1950000.0  \n",
       "4   950000.0  "
      ]
     },
     "execution_count": 13,
     "metadata": {},
     "output_type": "execute_result"
    }
   ],
   "source": [
    "housing_data = convert_lot_size_to_sqft()\n",
    "housing_data.head()"
   ]
  },
  {
   "cell_type": "code",
   "execution_count": 14,
   "id": "8e162655-21e7-45ae-9c34-30805524b68d",
   "metadata": {},
   "outputs": [
    {
     "name": "stdout",
     "output_type": "stream",
     "text": [
      "<class 'pandas.core.frame.DataFrame'>\n",
      "Index: 2521 entries, 0 to 504\n",
      "Data columns (total 8 columns):\n",
      " #   Column          Non-Null Count  Dtype  \n",
      "---  ------          --------------  -----  \n",
      " 0   beds            2521 non-null   int64  \n",
      " 1   baths           2521 non-null   float64\n",
      " 2   size            2521 non-null   float64\n",
      " 3   size_units      2521 non-null   object \n",
      " 4   lot_size        2097 non-null   float64\n",
      " 5   lot_size_units  2097 non-null   object \n",
      " 6   zip_code        2521 non-null   int64  \n",
      " 7   price           2521 non-null   float64\n",
      "dtypes: float64(4), int64(2), object(2)\n",
      "memory usage: 177.3+ KB\n"
     ]
    }
   ],
   "source": [
    "housing_data.info()"
   ]
  },
  {
   "cell_type": "code",
   "execution_count": 15,
   "id": "2c6c7183-f2c7-45a1-8331-0497282b2719",
   "metadata": {},
   "outputs": [
    {
     "data": {
      "text/plain": [
       "zip_code\n",
       "98103    214\n",
       "98115    209\n",
       "98117    189\n",
       "98122    138\n",
       "98144    134\n",
       "98118    120\n",
       "98125    107\n",
       "98126    102\n",
       "98107    100\n",
       "98116    100\n",
       "98199     97\n",
       "98106     93\n",
       "98119     89\n",
       "98105     88\n",
       "98102     79\n",
       "98136     77\n",
       "98109     74\n",
       "98121     73\n",
       "98133     73\n",
       "98112     69\n",
       "98178     60\n",
       "98146     56\n",
       "98168     51\n",
       "98108     46\n",
       "98177     35\n",
       "98101     28\n",
       "98104     17\n",
       "98164      2\n",
       "98188      1\n",
       "Name: count, dtype: int64"
      ]
     },
     "execution_count": 15,
     "metadata": {},
     "output_type": "execute_result"
    }
   ],
   "source": [
    "housing_data['zip_code'].value_counts()"
   ]
  },
  {
   "cell_type": "code",
   "execution_count": 16,
   "id": "6fd910ce-d0c7-4b74-8e47-ab74683dca04",
   "metadata": {},
   "outputs": [
    {
     "data": {
      "text/plain": [
       "29"
      ]
     },
     "execution_count": 16,
     "metadata": {},
     "output_type": "execute_result"
    }
   ],
   "source": [
    "len(housing_data['zip_code'].value_counts())"
   ]
  },
  {
   "cell_type": "markdown",
   "id": "ceb2a83c-cbb6-45df-8ca2-ebf6d669dfb5",
   "metadata": {},
   "source": [
    "Seattle has 30 zip codes and not all zip codes are well represented in this dataset. While the location of a house has definitely an impact on the price, we will be dropping it from the dataset as there is not enough information. With the current data, the model might use zip codes for price prediction in unexpected ways. The model, will be more generic in predicting prices for houses in Seattle rather than prices in an specific area of Seattle"
   ]
  },
  {
   "cell_type": "code",
   "execution_count": 17,
   "id": "8ac77cfb-649c-4075-9c9b-177e6d586222",
   "metadata": {},
   "outputs": [
    {
     "name": "stdout",
     "output_type": "stream",
     "text": [
      "<class 'pandas.core.frame.DataFrame'>\n",
      "Index: 2521 entries, 0 to 504\n",
      "Data columns (total 5 columns):\n",
      " #   Column    Non-Null Count  Dtype  \n",
      "---  ------    --------------  -----  \n",
      " 0   beds      2521 non-null   int64  \n",
      " 1   baths     2521 non-null   float64\n",
      " 2   size      2521 non-null   float64\n",
      " 3   lot_size  2097 non-null   float64\n",
      " 4   price     2521 non-null   float64\n",
      "dtypes: float64(4), int64(1)\n",
      "memory usage: 118.2 KB\n"
     ]
    }
   ],
   "source": [
    "columns_to_drop = [\"size_units\", \"lot_size_units\", \"zip_code\"] # drop object columns and zip code\n",
    "\n",
    "housing_data = housing_data.drop(columns=columns_to_drop)\n",
    "housing_data.info()"
   ]
  },
  {
   "cell_type": "code",
   "execution_count": 18,
   "id": "3a69a96e-10e8-4631-8aa9-9163f3101589",
   "metadata": {},
   "outputs": [
    {
     "name": "stdout",
     "output_type": "stream",
     "text": [
      "<class 'pandas.core.frame.DataFrame'>\n",
      "Index: 2521 entries, 0 to 504\n",
      "Data columns (total 5 columns):\n",
      " #   Column    Non-Null Count  Dtype  \n",
      "---  ------    --------------  -----  \n",
      " 0   beds      2521 non-null   float64\n",
      " 1   baths     2521 non-null   float64\n",
      " 2   size      2521 non-null   float64\n",
      " 3   lot_size  2521 non-null   float64\n",
      " 4   price     2521 non-null   float64\n",
      "dtypes: float64(5)\n",
      "memory usage: 118.2 KB\n"
     ]
    }
   ],
   "source": [
    "imputer = SimpleImputer(strategy=\"median\")\n",
    "imputer.fit(housing_data)\n",
    "\n",
    "X = imputer.transform(housing_data)\n",
    "housing_data = pd.DataFrame(X, columns=housing_data.columns, index=housing_data.index)\n",
    "housing_data.info()"
   ]
  },
  {
   "cell_type": "markdown",
   "id": "7643b377-0692-49b6-99ea-6ad33bb353a8",
   "metadata": {},
   "source": [
    "We have now dropped the object columns and filled the blank values with the median. We are now ready to split the data into train and test sets, separate the labels from the rest of the data, and train the model"
   ]
  },
  {
   "cell_type": "code",
   "execution_count": 19,
   "id": "48cdcfa7-3ac6-49fc-9c10-7d583086fc69",
   "metadata": {},
   "outputs": [],
   "source": [
    "def create_seattle_housing_train_test(data=housing_data, test_ratio=0.15):\n",
    "    shuffled_indices = np.random.permutation(len(housing_data))\n",
    "    test_size = int(len(housing_data) * test_ratio)\n",
    "    test_indices = shuffled_indices[:test_size]\n",
    "    train_indices = shuffled_indices[test_size:]\n",
    "    return housing_data.iloc[train_indices], housing_data.iloc[test_indices]"
   ]
  },
  {
   "cell_type": "code",
   "execution_count": 20,
   "id": "22b91e5a-5683-4864-bb4b-1cec4dff576c",
   "metadata": {},
   "outputs": [],
   "source": [
    "X_train, X_test = create_seattle_housing_train_test()"
   ]
  },
  {
   "cell_type": "code",
   "execution_count": 21,
   "id": "0e82a647-752e-4dde-be85-1e59ff1558dd",
   "metadata": {},
   "outputs": [
    {
     "data": {
      "text/plain": [
       "(2143, 5)"
      ]
     },
     "execution_count": 21,
     "metadata": {},
     "output_type": "execute_result"
    }
   ],
   "source": [
    "X_train.shape"
   ]
  },
  {
   "cell_type": "code",
   "execution_count": 22,
   "id": "8d62eaeb-0408-4857-907b-fe5c38caaf54",
   "metadata": {},
   "outputs": [
    {
     "data": {
      "text/plain": [
       "(378, 5)"
      ]
     },
     "execution_count": 22,
     "metadata": {},
     "output_type": "execute_result"
    }
   ],
   "source": [
    "X_test.shape"
   ]
  },
  {
   "cell_type": "code",
   "execution_count": 23,
   "id": "53215ff8-3c0c-4936-936c-55cf18f097d8",
   "metadata": {},
   "outputs": [],
   "source": [
    "y_train = X_train[\"price\"].copy()\n",
    "y_test = X_test[\"price\"].copy()\n",
    "\n",
    "X_train = X_train.drop(\"price\", axis=1)\n",
    "X_test = X_test.drop(\"price\", axis=1)"
   ]
  },
  {
   "cell_type": "code",
   "execution_count": 24,
   "id": "d4f6d1d4-8811-4551-9267-b4e0f38a5172",
   "metadata": {},
   "outputs": [
    {
     "data": {
      "text/html": [
       "<div>\n",
       "<style scoped>\n",
       "    .dataframe tbody tr th:only-of-type {\n",
       "        vertical-align: middle;\n",
       "    }\n",
       "\n",
       "    .dataframe tbody tr th {\n",
       "        vertical-align: top;\n",
       "    }\n",
       "\n",
       "    .dataframe thead th {\n",
       "        text-align: right;\n",
       "    }\n",
       "</style>\n",
       "<table border=\"1\" class=\"dataframe\">\n",
       "  <thead>\n",
       "    <tr style=\"text-align: right;\">\n",
       "      <th></th>\n",
       "      <th>beds</th>\n",
       "      <th>baths</th>\n",
       "      <th>size</th>\n",
       "      <th>lot_size</th>\n",
       "    </tr>\n",
       "  </thead>\n",
       "  <tbody>\n",
       "    <tr>\n",
       "      <th>246</th>\n",
       "      <td>4.0</td>\n",
       "      <td>5.5</td>\n",
       "      <td>2867.0</td>\n",
       "      <td>4983.0</td>\n",
       "    </tr>\n",
       "    <tr>\n",
       "      <th>159</th>\n",
       "      <td>1.0</td>\n",
       "      <td>1.0</td>\n",
       "      <td>603.0</td>\n",
       "      <td>5000.0</td>\n",
       "    </tr>\n",
       "    <tr>\n",
       "      <th>1068</th>\n",
       "      <td>4.0</td>\n",
       "      <td>1.0</td>\n",
       "      <td>1600.0</td>\n",
       "      <td>11761.2</td>\n",
       "    </tr>\n",
       "    <tr>\n",
       "      <th>1236</th>\n",
       "      <td>3.0</td>\n",
       "      <td>1.0</td>\n",
       "      <td>1450.0</td>\n",
       "      <td>7200.0</td>\n",
       "    </tr>\n",
       "    <tr>\n",
       "      <th>1833</th>\n",
       "      <td>2.0</td>\n",
       "      <td>1.0</td>\n",
       "      <td>808.0</td>\n",
       "      <td>5000.0</td>\n",
       "    </tr>\n",
       "  </tbody>\n",
       "</table>\n",
       "</div>"
      ],
      "text/plain": [
       "      beds  baths    size  lot_size\n",
       "246    4.0    5.5  2867.0    4983.0\n",
       "159    1.0    1.0   603.0    5000.0\n",
       "1068   4.0    1.0  1600.0   11761.2\n",
       "1236   3.0    1.0  1450.0    7200.0\n",
       "1833   2.0    1.0   808.0    5000.0"
      ]
     },
     "execution_count": 24,
     "metadata": {},
     "output_type": "execute_result"
    }
   ],
   "source": [
    "X_train.head()"
   ]
  },
  {
   "cell_type": "code",
   "execution_count": 25,
   "id": "5eab31ba-6ad3-4522-8b93-b094a1df6f09",
   "metadata": {},
   "outputs": [
    {
     "data": {
      "text/plain": [
       "246     1750000.0\n",
       "159      450000.0\n",
       "1068     652000.0\n",
       "1236    1125000.0\n",
       "1833     422500.0\n",
       "Name: price, dtype: float64"
      ]
     },
     "execution_count": 25,
     "metadata": {},
     "output_type": "execute_result"
    }
   ],
   "source": [
    "y_train.head()"
   ]
  },
  {
   "cell_type": "markdown",
   "id": "fdbf2ba5-dd74-4eaa-bab4-f0323b6dcb60",
   "metadata": {},
   "source": [
    "### Train model"
   ]
  },
  {
   "cell_type": "markdown",
   "id": "683fc301-bfe8-48f5-8584-a6e59b16be7a",
   "metadata": {},
   "source": [
    "We will first see the performance of a linear regression model"
   ]
  },
  {
   "cell_type": "code",
   "execution_count": 26,
   "id": "b1bd6c6d-7f6e-4ef1-9f50-e4638796e864",
   "metadata": {},
   "outputs": [
    {
     "data": {
      "text/plain": [
       "638728.420317798"
      ]
     },
     "execution_count": 26,
     "metadata": {},
     "output_type": "execute_result"
    }
   ],
   "source": [
    "lin_reg = LinearRegression()\n",
    "lin_reg.fit(X_train, y_train)\n",
    "\n",
    "housing_predictions_lin = lin_reg.predict(X_train)\n",
    "lin_mse = mean_squared_error(y_train, housing_predictions_lin)\n",
    "lin_rmse = np.sqrt(lin_mse)\n",
    "lin_rmse"
   ]
  },
  {
   "cell_type": "raw",
   "id": "c6e1d710-2edf-4bfd-9b33-cda95b8adbea",
   "metadata": {},
   "source": [
    "Now we will see the performance of a random forest regressor model"
   ]
  },
  {
   "cell_type": "code",
   "execution_count": 27,
   "id": "925e7e85-613b-41ab-8894-09b262a078e1",
   "metadata": {},
   "outputs": [
    {
     "data": {
      "text/plain": [
       "283225.15165648883"
      ]
     },
     "execution_count": 27,
     "metadata": {},
     "output_type": "execute_result"
    }
   ],
   "source": [
    "forest_reg = RandomForestRegressor()\n",
    "forest_reg.fit(X_train, y_train)\n",
    "\n",
    "housing_predictions_for = forest_reg.predict(X_train)\n",
    "forest_mse = mean_squared_error(y_train, housing_predictions_for)\n",
    "forest_rmse = np.sqrt(forest_mse)\n",
    "forest_rmse"
   ]
  },
  {
   "cell_type": "code",
   "execution_count": 28,
   "id": "3a125b06-d5c8-403d-be46-089fdeb7fade",
   "metadata": {},
   "outputs": [
    {
     "data": {
      "text/plain": [
       "966821.676318921"
      ]
     },
     "execution_count": 28,
     "metadata": {},
     "output_type": "execute_result"
    }
   ],
   "source": [
    "housing_data['price'].mean()"
   ]
  },
  {
   "cell_type": "markdown",
   "id": "b607756c-fe80-46d4-8682-3c1207a3f5f0",
   "metadata": {},
   "source": [
    "The forest model performed a lot better than linear regression. Given that the average house price is *$966821.68* and the training data was just above 2000 instances, the model did not performed too badly - being off around 30% of the price, although larger data and more complex models will definitely reduce the error of the predictions"
   ]
  },
  {
   "cell_type": "markdown",
   "id": "16b26a96-f181-4149-b74d-475cf4ed106f",
   "metadata": {},
   "source": [
    "### Evaluation and testing"
   ]
  },
  {
   "cell_type": "code",
   "execution_count": 29,
   "id": "17974d45-f061-4d1f-990d-38b0a5443034",
   "metadata": {},
   "outputs": [
    {
     "data": {
      "text/plain": [
       "1439223.7102841125"
      ]
     },
     "execution_count": 29,
     "metadata": {},
     "output_type": "execute_result"
    }
   ],
   "source": [
    "final_model = forest_reg\n",
    "final_predictions = final_model.predict(X_test)\n",
    "\n",
    "final_mse = mean_squared_error(y_test, final_predictions)\n",
    "final_rmse = np.sqrt(final_mse)\n",
    "final_rmse"
   ]
  },
  {
   "cell_type": "code",
   "execution_count": 30,
   "id": "79e5167b-b814-4653-bb84-9daabfecc75c",
   "metadata": {},
   "outputs": [
    {
     "name": "stderr",
     "output_type": "stream",
     "text": [
      "/Users/lealal/Documents/Software/HousingSeattle/housingseattle/lib/python3.12/site-packages/sklearn/base.py:465: UserWarning: X does not have valid feature names, but RandomForestRegressor was fitted with feature names\n",
      "  warnings.warn(\n"
     ]
    },
    {
     "data": {
      "text/plain": [
       "705439.96"
      ]
     },
     "execution_count": 30,
     "metadata": {},
     "output_type": "execute_result"
    }
   ],
   "source": [
    "new_house = [[2, 1.5, 1300, 3000]] # 2 bed, 1.5 bathroom, 1300sqft, and 3000sqft lot\n",
    "\n",
    "prediction = final_model.predict(new_house)\n",
    "prediction[0]"
   ]
  },
  {
   "cell_type": "markdown",
   "id": "79c8acd7-8efe-4a88-b3ad-5ae7ae97e953",
   "metadata": {},
   "source": [
    "The evaluation on the testing data was quite horrendous, but the predicted price for the test house is quite close to the actual prices in Seattle for a similar house"
   ]
  },
  {
   "cell_type": "code",
   "execution_count": null,
   "id": "a4300006-311f-46eb-a037-cd840ce5a268",
   "metadata": {},
   "outputs": [],
   "source": []
  }
 ],
 "metadata": {
  "kernelspec": {
   "display_name": "Python 3 (ipykernel)",
   "language": "python",
   "name": "python3"
  },
  "language_info": {
   "codemirror_mode": {
    "name": "ipython",
    "version": 3
   },
   "file_extension": ".py",
   "mimetype": "text/x-python",
   "name": "python",
   "nbconvert_exporter": "python",
   "pygments_lexer": "ipython3",
   "version": "3.12.0"
  }
 },
 "nbformat": 4,
 "nbformat_minor": 5
}
